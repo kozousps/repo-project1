{
 "cells": [
  {
   "cell_type": "markdown",
   "id": "c80e8803",
   "metadata": {},
   "source": [
    "# Project 1\n",
    "Importing csv data.\n",
    "\n",
    "Compare arrival delays for two airlines.\n",
    " - Using mean number of delays between the two airlines"
   ]
  },
  {
   "cell_type": "code",
   "execution_count": 8,
   "id": "b376e039-49cf-4c96-b22b-a8a590045058",
   "metadata": {},
   "outputs": [],
   "source": [
    "import pandas as pd"
   ]
  },
  {
   "cell_type": "code",
   "execution_count": 19,
   "id": "a85e0b75-f2fe-414c-bc94-25a7dc702c77",
   "metadata": {},
   "outputs": [],
   "source": [
    "df = pd.read_csv('project.csv') "
   ]
  },
  {
   "cell_type": "code",
   "execution_count": 20,
   "id": "a63d5d48",
   "metadata": {},
   "outputs": [],
   "source": [
    "df\n",
    "\n",
    "Max = df['Phoenix'].max()"
   ]
  },
  {
   "cell_type": "code",
   "execution_count": 21,
   "id": "f56ac4aa",
   "metadata": {},
   "outputs": [
    {
     "data": {
      "text/html": [
       "<div>\n",
       "<style scoped>\n",
       "    .dataframe tbody tr th:only-of-type {\n",
       "        vertical-align: middle;\n",
       "    }\n",
       "\n",
       "    .dataframe tbody tr th {\n",
       "        vertical-align: top;\n",
       "    }\n",
       "\n",
       "    .dataframe thead th {\n",
       "        text-align: right;\n",
       "    }\n",
       "</style>\n",
       "<table border=\"1\" class=\"dataframe\">\n",
       "  <thead>\n",
       "    <tr style=\"text-align: right;\">\n",
       "      <th></th>\n",
       "      <th>Unnamed: 0</th>\n",
       "      <th>Unnamed: 1</th>\n",
       "      <th>Los Angeles</th>\n",
       "      <th>Phoenix</th>\n",
       "      <th>San Diego</th>\n",
       "      <th>San Francisco</th>\n",
       "      <th>Seattle</th>\n",
       "    </tr>\n",
       "  </thead>\n",
       "  <tbody>\n",
       "    <tr>\n",
       "      <th>1</th>\n",
       "      <td>ALASKA</td>\n",
       "      <td>delayed</td>\n",
       "      <td>62</td>\n",
       "      <td>12</td>\n",
       "      <td>20</td>\n",
       "      <td>102</td>\n",
       "      <td>305</td>\n",
       "    </tr>\n",
       "    <tr>\n",
       "      <th>3</th>\n",
       "      <td>AM WEST</td>\n",
       "      <td>delayed</td>\n",
       "      <td>117</td>\n",
       "      <td>415</td>\n",
       "      <td>65</td>\n",
       "      <td>129</td>\n",
       "      <td>61</td>\n",
       "    </tr>\n",
       "  </tbody>\n",
       "</table>\n",
       "</div>"
      ],
      "text/plain": [
       "  Unnamed: 0 Unnamed: 1  Los Angeles  Phoenix  San Diego  San Francisco  \\\n",
       "1     ALASKA    delayed           62       12         20            102   \n",
       "3    AM WEST    delayed          117      415         65            129   \n",
       "\n",
       "   Seattle  \n",
       "1      305  \n",
       "3       61  "
      ]
     },
     "execution_count": 21,
     "metadata": {},
     "output_type": "execute_result"
    }
   ],
   "source": [
    "Parsed = df.loc[[1, 3]]\n",
    "Parsed"
   ]
  },
  {
   "cell_type": "code",
   "execution_count": 22,
   "id": "10f80006",
   "metadata": {},
   "outputs": [
    {
     "data": {
      "text/plain": [
       "Los Angeles       89.5\n",
       "Phoenix          213.5\n",
       "San Diego         42.5\n",
       "San Francisco    115.5\n",
       "Seattle          183.0\n",
       "dtype: float64"
      ]
     },
     "execution_count": 22,
     "metadata": {},
     "output_type": "execute_result"
    }
   ],
   "source": [
    "Parsed.mean()"
   ]
  },
  {
   "cell_type": "code",
   "execution_count": null,
   "id": "cf6a9e3a",
   "metadata": {},
   "outputs": [],
   "source": []
  }
 ],
 "metadata": {
  "kernelspec": {
   "display_name": "Python 3 (ipykernel)",
   "language": "python",
   "name": "python3"
  },
  "language_info": {
   "codemirror_mode": {
    "name": "ipython",
    "version": 3
   },
   "file_extension": ".py",
   "mimetype": "text/x-python",
   "name": "python",
   "nbconvert_exporter": "python",
   "pygments_lexer": "ipython3",
   "version": "3.9.1"
  }
 },
 "nbformat": 4,
 "nbformat_minor": 5
}
